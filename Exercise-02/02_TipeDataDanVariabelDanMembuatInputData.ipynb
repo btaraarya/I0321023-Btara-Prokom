{
 "cells": [
  {
   "cell_type": "markdown",
   "metadata": {},
   "source": [
    "# Exercise 2\n",
    "\n",
    "1. Salinlah kode di bawah ini dan isilah titik-titik sesuai dengan perintah yang ada\n",
    "![](./images/02_TipeDataDanVariabel.png)"
   ]
  },
  {
   "cell_type": "code",
   "execution_count": 1,
   "metadata": {},
   "outputs": [
    {
     "name": "stdout",
     "output_type": "stream",
     "text": [
      "Nama lengkap saya adalah Btara Aryanda\n",
      "Nama panggilan saya adalah Btara\n",
      "Umur saya saat ini adalah 19\n",
      "Tipe data variabel _umur adalah 19\n",
      "Umur saya saat ini adalah Sembilan Belas Tahun\n"
     ]
    },
    {
     "ename": "ValueError",
     "evalue": "invalid literal for int() with base 10: 'Sembilan Belas Tahun'",
     "output_type": "error",
     "traceback": [
      "\u001b[1;31m---------------------------------------------------------------------------\u001b[0m",
      "\u001b[1;31mValueError\u001b[0m                                Traceback (most recent call last)",
      "\u001b[1;32mc:\\Users\\ASUS\\Documents\\Praktikum Progama Komputer\\I0321023-Btara-Prokom\\Exercise-02\\02_TipeDataDanVariabelDanMembuatInputData.ipynb Cell 2'\u001b[0m in \u001b[0;36m<cell line: 11>\u001b[1;34m()\u001b[0m\n\u001b[0;32m      <a href='vscode-notebook-cell:/c%3A/Users/ASUS/Documents/Praktikum%20Progama%20Komputer/I0321023-Btara-Prokom/Exercise-02/02_TipeDataDanVariabelDanMembuatInputData.ipynb#ch0000001?line=8'>9</a>\u001b[0m _umur \u001b[39m=\u001b[39m \u001b[39m\"\u001b[39m\u001b[39mSembilan Belas Tahun\u001b[39m\u001b[39m\"\u001b[39m\n\u001b[0;32m     <a href='vscode-notebook-cell:/c%3A/Users/ASUS/Documents/Praktikum%20Progama%20Komputer/I0321023-Btara-Prokom/Exercise-02/02_TipeDataDanVariabelDanMembuatInputData.ipynb#ch0000001?line=9'>10</a>\u001b[0m \u001b[39mprint\u001b[39m(\u001b[39m\"\u001b[39m\u001b[39mUmur saya saat ini adalah\u001b[39m\u001b[39m\"\u001b[39m,_umur)\n\u001b[1;32m---> <a href='vscode-notebook-cell:/c%3A/Users/ASUS/Documents/Praktikum%20Progama%20Komputer/I0321023-Btara-Prokom/Exercise-02/02_TipeDataDanVariabelDanMembuatInputData.ipynb#ch0000001?line=10'>11</a>\u001b[0m \u001b[39mprint\u001b[39m(\u001b[39m\"\u001b[39m\u001b[39mTipe data variabel _umur adalah\u001b[39m\u001b[39m\"\u001b[39m,\u001b[39mint\u001b[39;49m(_umur))\n\u001b[0;32m     <a href='vscode-notebook-cell:/c%3A/Users/ASUS/Documents/Praktikum%20Progama%20Komputer/I0321023-Btara-Prokom/Exercise-02/02_TipeDataDanVariabelDanMembuatInputData.ipynb#ch0000001?line=11'>12</a>\u001b[0m tinggi_badan \u001b[39m=\u001b[39m \u001b[39m\"\u001b[39m\u001b[39m175.5\u001b[39m\u001b[39m\"\u001b[39m\n\u001b[0;32m     <a href='vscode-notebook-cell:/c%3A/Users/ASUS/Documents/Praktikum%20Progama%20Komputer/I0321023-Btara-Prokom/Exercise-02/02_TipeDataDanVariabelDanMembuatInputData.ipynb#ch0000001?line=12'>13</a>\u001b[0m \u001b[39mprint\u001b[39m(\u001b[39m\"\u001b[39m\u001b[39mTinggi badan saya saat ini adalah\u001b[39m\u001b[39m\"\u001b[39m,tinggi_badan)\n",
      "\u001b[1;31mValueError\u001b[0m: invalid literal for int() with base 10: 'Sembilan Belas Tahun'"
     ]
    }
   ],
   "source": [
    "#Kerjakan nomor satu disini\n",
    "Nama = \"Btara Aryanda\"\n",
    "nama = \"Btara\"\n",
    "print(\"Nama lengkap saya adalah\", Nama)\n",
    "print(\"Nama panggilan saya adalah\", nama)\n",
    "_umur = \"19\"\n",
    "print(\"Umur saya saat ini adalah\",_umur)\n",
    "print(\"Tipe data variabel _umur adalah\",type(_umur))\n",
    "_umur = \"Sembilan Belas Tahun\"\n",
    "print(\"Umur saya saat ini adalah\",_umur)\n",
    "print(\"Tipe data variabel _umur adalah\",type(_umur))\n",
    "tinggi_badan = \"175.5\"\n",
    "print(\"Tinggi badan saya saat ini adalah\",tinggi_badan)\n",
    "print(\"Tipe data variabel tinggi badan adalah\",type(tinggi_badan))\n",
    "mahasiswaangkatan2021 = True\n",
    "print(\"Saya merupakan mahasiswa angkatan 2021 adalah\",mahasiswaangkatan2021)\n",
    "print(\"Tipe data variabel mahasiswaangkatan2021 adalah\",bool(mahasiswaangkatan2021))"
   ]
  },
  {
   "cell_type": "markdown",
   "metadata": {},
   "source": [
    "2. Salinlah kode di bawah ini dan isilah titik-titik sesuai dengan perintah yang ada\n",
    "![](./images/02_MembuatInputData.png)"
   ]
  },
  {
   "cell_type": "code",
   "execution_count": 3,
   "metadata": {},
   "outputs": [
    {
     "name": "stdout",
     "output_type": "stream",
     "text": [
      "Program Konversi Panjang dalam Meter ke Berbagai Satuan\n",
      "\n",
      "\n",
      "23 m = 0.023 km\n",
      "23 m = 2300 cm\n",
      "23 m = 23000 mm\n",
      "23 m = 23000000 μm\n",
      "23 m = 23000000000 nm\n",
      "23 m = 905.5118 in\n",
      "23 m = 75.4593 ft\n",
      "23 m = 25.1531 yard\n",
      "23 m = 0.0143 mi\n",
      "23 m = 0.0124 nmi\n"
     ]
    }
   ],
   "source": [
    "#Kerjakan nomor satu disini\n",
    "#simbol miu --> μ\n",
    "print(\"Program Konversi Panjang dalam Meter ke Berbagai Satuan\")\n",
    "print(\"\")\n",
    "length = int(input(\"Masukan nilai panjang dalam meter : \"))\n",
    "feet = length / 0.3048\n",
    "print(\"\")\n",
    "print(length, \"m =\", length / 1000, \"km\")\n",
    "print(length, \"m =\", length * 100, \"cm\")\n",
    "print(length, \"m =\", length * 1000, \"mm\")\n",
    "print(length, \"m =\", length * 1000000, \"μm\")\n",
    "print(length, \"m =\", length * 1000000000, \"nm\")\n",
    "print(length, \"m =\", round(feet * 12, 4), \"in\")\n",
    "print(length, \"m =\", round(feet, 4), \"ft\")\n",
    "print(length, \"m =\", round(feet / 3, 4), \"yard\")\n",
    "print(length, \"m =\", round(feet / 5280, 4), \"mi\")\n",
    "print(length, \"m =\", round(length / 1852, 4), \"nmi\")"
   ]
  },
  {
   "cell_type": "markdown",
   "metadata": {},
   "source": [
    "### Cara Pengumpulan\n",
    "\n",
    "1. Buka *New Terminal*\n",
    "2. Pastikan *path* Terminal adalah folder repositori kalian (NIM-Nama-Prokom).\n",
    "3. Tambahkan file yang akan ditrack dengan `git add <nama file>`. Nama file bisa diubah . (titik) yang artinya semua file dalam folder akan ditrack.\n",
    "4. Lakukan commit perubahan dengan `git commit -m <deskripsi>`.\n",
    "5. Lakukan push dengan `git push -u origin <nama branch>`. Nama branch dapat diketahui dengan `git branch`.\n",
    "6. Pastikan Exercise-02 telah terupload dan dapat diakses di repositori dengan mengaksesnya di browser."
   ]
  }
 ],
 "metadata": {
  "interpreter": {
   "hash": "ac59ebe37160ed0dfa835113d9b8498d9f09ceb179beaac4002f036b9467c963"
  },
  "kernelspec": {
   "display_name": "Python 3.9.8 64-bit",
   "language": "python",
   "name": "python3"
  },
  "language_info": {
   "codemirror_mode": {
    "name": "ipython",
    "version": 3
   },
   "file_extension": ".py",
   "mimetype": "text/x-python",
   "name": "python",
   "nbconvert_exporter": "python",
   "pygments_lexer": "ipython3",
   "version": "3.9.7"
  },
  "orig_nbformat": 4
 },
 "nbformat": 4,
 "nbformat_minor": 2
}
