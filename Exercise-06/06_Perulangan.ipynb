{
 "cells": [
  {
   "cell_type": "markdown",
   "metadata": {},
   "source": [
    "***\n",
    "<h1 align=\"center\">Exercise 06</h1>\n",
    " \n",
    "***\n",
    "## While Loop\n",
    "## Exercise 6.1\n",
    "isilah bagian rumpang berikut. xx diganti tanggal lahir dan yy diganti menjadi bulan lahir. tandanya menyesuaikan yang lebih besar."
   ]
  },
  {
   "cell_type": "code",
   "execution_count": 1,
   "metadata": {},
   "outputs": [
    {
     "name": "stdout",
     "output_type": "stream",
     "text": [
      "Hiduplah sebagai diri sendiri\n",
      "Hiduplah sebagai diri sendiri\n",
      "Hiduplah sebagai diri sendiri\n",
      "Hiduplah sebagai diri sendiri\n",
      "Hiduplah sebagai diri sendiri\n",
      "Hiduplah sebagai diri sendiri\n",
      "Hiduplah sebagai diri sendiri\n",
      "Hiduplah sebagai diri sendiri\n",
      "Hiduplah sebagai diri sendiri\n",
      "Hiduplah sebagai diri sendiri\n",
      "Hiduplah sebagai diri sendiri\n",
      "Hiduplah sebagai diri sendiri\n",
      "Hiduplah sebagai diri sendiri\n",
      "Hiduplah sebagai diri sendiri\n",
      "Hiduplah sebagai diri sendiri\n",
      "Hiduplah sebagai diri sendiri\n",
      "Hiduplah sebagai diri sendiri\n"
     ]
    }
   ],
   "source": [
    "#menentukan banyak pengulangan\n",
    "n = 20\n",
    "\n",
    "#melakukan pengulangan\n",
    "i = 4\n",
    "\n",
    "while i <= n :\n",
    "    print (\"Hiduplah sebagai diri sendiri\")\n",
    "    #diisi motto kalian\n",
    "    i = i + 1 # sesuaikan dengan atas agar fungsi perulangan dapat berhenti\n"
   ]
  },
  {
   "cell_type": "markdown",
   "metadata": {},
   "source": [
    "## Exercise 6.2\n",
    "\n",
    "Buatlah code seperti yang dicontohkan pada modul agar user dapat menginputkan sendiri jumlah n yang diinginkan"
   ]
  },
  {
   "cell_type": "code",
   "execution_count": 2,
   "metadata": {},
   "outputs": [
    {
     "name": "stdout",
     "output_type": "stream",
     "text": [
      "Hiduplah sebagai diri sendiri\n",
      "Hiduplah sebagai diri sendiri\n",
      "Hiduplah sebagai diri sendiri\n",
      "Hiduplah sebagai diri sendiri\n",
      "Hiduplah sebagai diri sendiri\n",
      "Hiduplah sebagai diri sendiri\n",
      "Hiduplah sebagai diri sendiri\n",
      "Hiduplah sebagai diri sendiri\n",
      "Hiduplah sebagai diri sendiri\n",
      "Hiduplah sebagai diri sendiri\n",
      "Hiduplah sebagai diri sendiri\n",
      "Hiduplah sebagai diri sendiri\n",
      "Hiduplah sebagai diri sendiri\n",
      "Hiduplah sebagai diri sendiri\n",
      "Hiduplah sebagai diri sendiri\n",
      "Hiduplah sebagai diri sendiri\n",
      "Hiduplah sebagai diri sendiri\n",
      "Hiduplah sebagai diri sendiri\n",
      "Hiduplah sebagai diri sendiri\n",
      "Hiduplah sebagai diri sendiri\n"
     ]
    }
   ],
   "source": [
    "#Kerjakan disini\n",
    "n  = int(input(\"Masukkan nilai n: \"))\n",
    "i = 4\n",
    "\n",
    "while i <= n :\n",
    "    print(\"Hiduplah sebagai diri sendiri\")\n",
    "    i = i + 1"
   ]
  },
  {
   "cell_type": "markdown",
   "metadata": {},
   "source": [
    "## Excercise 6.3\n",
    "\n",
    "isilah xx, yy, dan tanda rumpang seperti pada exercise 6.1\n"
   ]
  },
  {
   "cell_type": "code",
   "execution_count": 3,
   "metadata": {},
   "outputs": [
    {
     "name": "stdout",
     "output_type": "stream",
     "text": [
      "Baris ke-20 : Interstellar\n",
      "Baris ke-19 : Interstellar\n",
      "Baris ke-18 : Interstellar\n",
      "Baris ke-17 : Interstellar\n",
      "Baris ke-16 : Interstellar\n",
      "Baris ke-15 : Interstellar\n",
      "Baris ke-14 : Interstellar\n",
      "Baris ke-13 : Interstellar\n",
      "Baris ke-12 : Interstellar\n",
      "Baris ke-11 : Interstellar\n",
      "Baris ke-10 : Interstellar\n",
      "Baris ke-9 : Interstellar\n",
      "Baris ke-8 : Interstellar\n",
      "Baris ke-7 : Interstellar\n",
      "Baris ke-6 : Interstellar\n",
      "Baris ke-5 : Interstellar\n"
     ]
    }
   ],
   "source": [
    "#melakukan pengulangan\n",
    "i = 20\n",
    "\n",
    "while i != 4 :\n",
    "    print (\"Baris ke-%d : Interstellar\"%i)\n",
    "    #isi titik-titik dengan judul film favorit kalian\n",
    "    i = i - 1 "
   ]
  },
  {
   "cell_type": "markdown",
   "metadata": {},
   "source": [
    "## FOR LOOP\n",
    "\n",
    "## Exercise 6.4\n",
    "\n",
    "munculkan 3 dari 7 elemen yang berada di dalam list1 dan list2\n"
   ]
  },
  {
   "cell_type": "code",
   "execution_count": 10,
   "metadata": {},
   "outputs": [
    {
     "name": "stdout",
     "output_type": "stream",
     "text": [
      "5 Ramen Jakarta\n",
      "6 Burger Bogor\n",
      "7 Nasi Kebuli Solo\n"
     ]
    }
   ],
   "source": [
    "list1 = [\n",
    "    \"Tongseng\", \n",
    "    \"Gudeg\", \n",
    "    \"Nasi Goreng\", \n",
    "    \"Sushi\", \n",
    "    \"Ramen\", \n",
    "    \"Burger\",\n",
    "    \"Nasi Kebuli\"] #masukkan 7 list makanan favorit kalian\n",
    "list2 = [\n",
    "    \"Balikpapan\",\n",
    "    \"Tokyo\", \n",
    "    \"Denpasar\", \n",
    "    \"Surabaya\", \n",
    "    \"Jakarta\", \n",
    "    \"Bogor\", \n",
    "    \"Solo\"] #masukkan 7 list kota favorit kalian\n",
    "\n",
    "for i in range(4,7) :\n",
    "    print(i+1, list1[i] , list2[i])"
   ]
  },
  {
   "cell_type": "markdown",
   "metadata": {},
   "source": [
    "## Perulangan Bersarang\n",
    "\n",
    "## Exercise 6.5"
   ]
  },
  {
   "cell_type": "code",
   "execution_count": 5,
   "metadata": {},
   "outputs": [
    {
     "name": "stdout",
     "output_type": "stream",
     "text": [
      "400 \n",
      "380 361 \n",
      "360 342 324 \n",
      "340 323 306 289 \n",
      "320 304 288 272 256 \n",
      "300 285 270 255 240 225 \n",
      "280 266 252 238 224 210 196 \n",
      "260 247 234 221 208 195 182 169 \n",
      "240 228 216 204 192 180 168 156 144 \n",
      "220 209 198 187 176 165 154 143 132 121 \n",
      "200 190 180 170 160 150 140 130 120 110 100 \n",
      "180 171 162 153 144 135 126 117 108 99 90 81 \n",
      "160 152 144 136 128 120 112 104 96 88 80 72 64 \n",
      "140 133 126 119 112 105 98 91 84 77 70 63 56 49 \n",
      "120 114 108 102 96 90 84 78 72 66 60 54 48 42 36 \n",
      "100 95 90 85 80 75 70 65 60 55 50 45 40 35 30 25 \n",
      "80 76 72 68 64 60 56 52 48 44 40 36 32 28 24 20 16 \n"
     ]
    }
   ],
   "source": [
    "i = 20\n",
    "while i >= 4:\n",
    "    j = 20\n",
    "    while j>=i:\n",
    "        print(\"%d \" % (i*j), end = '')\n",
    "        j = j - 1\n",
    "    print()\n",
    "    i -=1"
   ]
  },
  {
   "cell_type": "markdown",
   "metadata": {},
   "source": [
    "## Pernyataan Loncat\n",
    "\n",
    "## Exercise 6.\n",
    "\n",
    "Buatlah fungsi berikut agar muncul angka hingga berhenti sesuai dengan nilai qq\n",
    "qq = angka favorit kalian\n",
    "pp>qq"
   ]
  },
  {
   "cell_type": "code",
   "execution_count": 8,
   "metadata": {},
   "outputs": [
    {
     "name": "stdout",
     "output_type": "stream",
     "text": [
      "0 1 2 3 4 5 6 7 8 9 10 11 12 13 14 15 16 17 18 19 20 21 22 23 24 25 26 27 28 29 30 31 32 33 34 35 36 37 38 39 40 41 42 43 44 45 46 47 48 49 50 51 52 53 54 55 56 57 58 59 60 61 62 63 64 65 66 67 68 69 70 71 72 73 74 75 76 77 78 79 80 81 82 83 84 85 86 87 88 89 90 91 92 93 94 95 96 97 98 99 100 101 102 103 104 105 106 107 108 109 110 111 112 113 114 115 116 117 118 119 120 121 122 123 124 125 126 127 128 129 130 131 132 133 134 135 136 137 138 139 140 141 142 143 144 145 146 147 148 149 150 151 152 153 154 155 156 157 158 159 160 161 162 163 164 165 166 167 168 169 170 171 172 173 174 175 176 177 178 179 180 181 182 183 184 185 186 187 188 189 190 191 192 193 194 195 196 197 198 199 200 201 202 203 204 205 206 207 208 209 210 211 212 213 214 215 216 217 218 219 220 221 222 223 224 225 226 227 228 229 230 231 232 233 234 235 236 237 238 239 240 241 242 243 244 245 246 247 248 249 250 251 252 253 254 255 256 257 258 259 260 261 262 263 264 265 266 267 268 269 270 271 272 273 274 275 276 277 278 279 280 281 282 283 284 285 286 287 288 289 290 291 292 293 294 295 296 297 298 299 300 301 302 303 304 305 306 307 308 309 310 311 312 313 314 315 316 317 318 319 320 321 322 323 324 325 326 327 328 329 330 331 332 333 334 335 336 337 338 339 340 341 342 343 "
     ]
    }
   ],
   "source": [
    "for i in range(400):\n",
    "    print(i,end=' ')\n",
    "    if i == 343:\n",
    "        break"
   ]
  },
  {
   "cell_type": "markdown",
   "metadata": {},
   "source": [
    "***\n",
    "<h1 align=\"center\">WELL DONE</h1>\n",
    " \n",
    "***"
   ]
  }
 ],
 "metadata": {
  "interpreter": {
   "hash": "cd08f94adcf3cbae37fe85286256f4c2a10455ca9094fd053e9f3d3f09647223"
  },
  "kernelspec": {
   "display_name": "Python 3.9.7 64-bit",
   "language": "python",
   "name": "python3"
  },
  "language_info": {
   "codemirror_mode": {
    "name": "ipython",
    "version": 3
   },
   "file_extension": ".py",
   "mimetype": "text/x-python",
   "name": "python",
   "nbconvert_exporter": "python",
   "pygments_lexer": "ipython3",
   "version": "3.9.7"
  },
  "orig_nbformat": 4
 },
 "nbformat": 4,
 "nbformat_minor": 2
}
